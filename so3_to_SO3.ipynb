{
 "cells": [
  {
   "cell_type": "code",
   "execution_count": 1,
   "id": "employed-bubble",
   "metadata": {},
   "outputs": [],
   "source": [
    "import torch"
   ]
  },
  {
   "cell_type": "code",
   "execution_count": 2,
   "id": "transparent-heath",
   "metadata": {},
   "outputs": [
    {
     "name": "stdout",
     "output_type": "stream",
     "text": [
      "tensor([[ 0.,  0.,  1.],\n",
      "        [ 0.,  0.,  0.],\n",
      "        [-1.,  0.,  0.]])\n",
      "tensor([[ 0.,  1.,  0.],\n",
      "        [-1.,  0.,  0.],\n",
      "        [ 0.,  0.,  0.]])\n",
      "tensor([[ 0.,  0.,  0.],\n",
      "        [ 0.,  0.,  1.],\n",
      "        [ 0., -1.,  0.]])\n"
     ]
    }
   ],
   "source": [
    "a = torch.tensor([[0, 0, 1], [0, 0, 0], [-1, 0, 0]], dtype=torch.float32)\n",
    "b = torch.tensor([[0, 1, 0], [-1, 0, 0], [0, 0, 0]], dtype=torch.float32)\n",
    "c = torch.tensor([[0, 0, 0], [0, 0, 1], [0, -1, 0]], dtype=torch.float32)\n",
    "print(a)\n",
    "print(b)\n",
    "print(c)"
   ]
  },
  {
   "cell_type": "code",
   "execution_count": 3,
   "id": "present-affiliate",
   "metadata": {},
   "outputs": [
    {
     "data": {
      "text/plain": [
       "tensor(0.)"
      ]
     },
     "execution_count": 3,
     "metadata": {},
     "output_type": "execute_result"
    }
   ],
   "source": [
    "torch.det(a)"
   ]
  },
  {
   "cell_type": "code",
   "execution_count": 12,
   "id": "minimal-reference",
   "metadata": {},
   "outputs": [
    {
     "name": "stdout",
     "output_type": "stream",
     "text": [
      "tensor([[1.0000e+00, 0.0000e+00, 1.2824e-10],\n",
      "        [0.0000e+00, 1.0000e+00, 0.0000e+00],\n",
      "        [1.2824e-10, 0.0000e+00, 1.0000e+00]])\n",
      "tensor([[1.0000, 0.0000, 0.0000],\n",
      "        [0.0000, 1.0000, 0.0000],\n",
      "        [0.0000, 0.0000, 1.0000]])\n",
      "tensor([[1.0000e+00, 0.0000e+00, 0.0000e+00],\n",
      "        [0.0000e+00, 1.0000e+00, 1.2824e-10],\n",
      "        [0.0000e+00, 1.2824e-10, 1.0000e+00]])\n"
     ]
    }
   ],
   "source": [
    "A = torch.matrix_exp(a)\n",
    "B = torch.matrix_exp(b)\n",
    "C = torch.matrix_exp(c)\n",
    "print(torch.matmul(A, torch.t(A)))\n",
    "print(torch.matmul(B, torch.t(B)))\n",
    "print(torch.matmul(C, torch.t(C)))"
   ]
  },
  {
   "cell_type": "code",
   "execution_count": 18,
   "id": "widespread-receptor",
   "metadata": {},
   "outputs": [],
   "source": [
    "def commute(x, y):\n",
    "    return torch.matmul(x, y) - torch.matmul(y, x)"
   ]
  },
  {
   "cell_type": "code",
   "execution_count": 23,
   "id": "destroyed-legislation",
   "metadata": {},
   "outputs": [
    {
     "data": {
      "text/plain": [
       "tensor([[ 0.,  0.,  1.],\n",
       "        [ 0.,  0.,  0.],\n",
       "        [-1.,  0.,  0.]])"
      ]
     },
     "execution_count": 23,
     "metadata": {},
     "output_type": "execute_result"
    }
   ],
   "source": [
    "commute(a, b) # == c\n",
    "commute(a, c) # == b\n",
    "commute(b, c) # == a"
   ]
  },
  {
   "cell_type": "code",
   "execution_count": 25,
   "id": "outer-apartment",
   "metadata": {},
   "outputs": [],
   "source": [
    "def exp(x):\n",
    "    return torch.matrix_exp(x)"
   ]
  },
  {
   "cell_type": "code",
   "execution_count": 28,
   "id": "suburban-snowboard",
   "metadata": {},
   "outputs": [
    {
     "data": {
      "text/plain": [
       "tensor([[-0.9900,  0.0000,  0.1411],\n",
       "        [ 0.0000,  1.0000,  0.0000],\n",
       "        [-0.1411,  0.0000, -0.9900]])"
      ]
     },
     "execution_count": 28,
     "metadata": {},
     "output_type": "execute_result"
    }
   ],
   "source": [
    "exp(3 * a)"
   ]
  },
  {
   "cell_type": "code",
   "execution_count": 27,
   "id": "instructional-leeds",
   "metadata": {},
   "outputs": [
    {
     "data": {
      "text/plain": [
       "tensor([[ 0.5403,  0.0000,  0.8415],\n",
       "        [ 0.0000,  1.0000,  0.0000],\n",
       "        [-0.8415,  0.0000,  0.5403]])"
      ]
     },
     "execution_count": 27,
     "metadata": {},
     "output_type": "execute_result"
    }
   ],
   "source": [
    "exp(a)"
   ]
  },
  {
   "cell_type": "code",
   "execution_count": null,
   "id": "organic-disease",
   "metadata": {},
   "outputs": [],
   "source": []
  }
 ],
 "metadata": {
  "kernelspec": {
   "display_name": "Python 3",
   "language": "python",
   "name": "python3"
  },
  "language_info": {
   "codemirror_mode": {
    "name": "ipython",
    "version": 3
   },
   "file_extension": ".py",
   "mimetype": "text/x-python",
   "name": "python",
   "nbconvert_exporter": "python",
   "pygments_lexer": "ipython3",
   "version": "3.8.5"
  }
 },
 "nbformat": 4,
 "nbformat_minor": 5
}
