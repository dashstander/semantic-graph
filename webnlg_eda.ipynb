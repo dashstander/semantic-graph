{
 "cells": [
  {
   "cell_type": "code",
   "execution_count": 31,
   "id": "breathing-richmond",
   "metadata": {},
   "outputs": [],
   "source": [
    "from collections import namedtuple\n",
    "import torch\n",
    "import numpy as np\n",
    "from datasets import load_dataset"
   ]
  },
  {
   "cell_type": "code",
   "execution_count": 2,
   "id": "executive-tyler",
   "metadata": {},
   "outputs": [
    {
     "name": "stderr",
     "output_type": "stream",
     "text": [
      "Reusing dataset enriched_web_nlg (/home/dashiell/.cache/huggingface/datasets/enriched_web_nlg/en/0.0.0/71bb7723be90037b52b022d82fd8928fb6f7544fd331aec278aaffb6814be4b5)\n"
     ]
    }
   ],
   "source": [
    "web = load_dataset('enriched_web_nlg', 'en')['train']"
   ]
  },
  {
   "cell_type": "code",
   "execution_count": 3,
   "id": "senior-western",
   "metadata": {},
   "outputs": [
    {
     "data": {
      "text/plain": [
       "6940"
      ]
     },
     "execution_count": 3,
     "metadata": {},
     "output_type": "execute_result"
    }
   ],
   "source": [
    "len(web)"
   ]
  },
  {
   "cell_type": "code",
   "execution_count": 4,
   "id": "proved-talent",
   "metadata": {},
   "outputs": [
    {
     "data": {
      "text/plain": [
       "{'category': 'Airport',\n",
       " 'eid': 'Id1',\n",
       " 'lex': {'comment': ['good', 'good'],\n",
       "  'lexicalization': ['AGENT-1 VP[aspect=simple,tense=present,voice=active,person=3rd,number=singular] be DT[form=defined] the airport of PATIENT-1 .',\n",
       "   'AGENT-1 VP[aspect=simple,tense=present,voice=active,person=3rd,number=null] serve DT[form=defined] the city of PATIENT-1 .'],\n",
       "  'lid': ['Id1', 'Id2'],\n",
       "  'sorted_triple_sets': [['Aarhus_Airport | cityServed | \"Aarhus, Denmark\"'],\n",
       "   ['Aarhus_Airport | cityServed | \"Aarhus, Denmark\"']],\n",
       "  'template': ['AGENT-1 is the airport of PATIENT-1 .',\n",
       "   'AGENT-1 serves the city of PATIENT-1 .'],\n",
       "  'text': ['The Aarhus is the airport of Aarhus, Denmark.',\n",
       "   'Aarhus Airport serves the city of Aarhus, Denmark.']},\n",
       " 'modified_triple_sets': {'mtriple_set': [['Aarhus_Airport | cityServed | \"Aarhus, Denmark\"']]},\n",
       " 'original_triple_sets': {'otriple_set': [['Aarhus_Airport | cityServed | \"Aarhus, Denmark\"@en']]},\n",
       " 'shape': '',\n",
       " 'shape_type': '',\n",
       " 'size': 1}"
      ]
     },
     "execution_count": 4,
     "metadata": {},
     "output_type": "execute_result"
    }
   ],
   "source": [
    "web[0]"
   ]
  },
  {
   "cell_type": "code",
   "execution_count": 5,
   "id": "fantastic-passport",
   "metadata": {},
   "outputs": [
    {
     "data": {
      "text/plain": [
       "{'category': 'University',\n",
       " 'eid': 'Id71',\n",
       " 'lex': {'comment': ['good', 'good', 'good'],\n",
       "  'lexicalization': ['AGENT-1 in PATIENT-3 VP[aspect=simple,tense=present,voice=passive,person=3rd,number=singular] affiliate with BRIDGE-1 in PATIENT-1 . AGENT-1 director VP[aspect=simple,tense=present,voice=active,person=3rd,number=singular] be PATIENT-2 .',\n",
       "   'AGENT-1 VP[aspect=simple,tense=present,voice=active,person=3rd,number=singular] be located in PATIENT-3 . AGENT-1 VP[aspect=simple,tense=present,voice=passive,person=3rd,number=singular] affiliate with BRIDGE-1 in PATIENT-1 and AGENT-1 director VP[aspect=simple,tense=present,voice=active,person=3rd,number=singular] be PATIENT-2 .',\n",
       "   'AGENT-1 VP[aspect=simple,tense=past,voice=active,person=null,number=null] base in DT[form=defined] the state of PATIENT-3 VP[aspect=simple,tense=present,voice=active,person=3rd,number=null] have DT[form=defined] the director PATIENT-2 . AGENT-1 VP[aspect=simple,tense=present,voice=passive,person=3rd,number=singular] affiliate with BRIDGE-1 which VP[aspect=simple,tense=present,voice=active,person=3rd,number=singular] be located in DT[form=defined] the city of PATIENT-1 .'],\n",
       "  'lid': ['Id1', 'Id2', 'Id3'],\n",
       "  'sorted_triple_sets': [['Acharya_Institute_of_Technology | state | Karnataka',\n",
       "    'Acharya_Institute_of_Technology | affiliation | Visvesvaraya_Technological_University',\n",
       "    'Visvesvaraya_Technological_University | city | Belgaum',\n",
       "    'Acharya_Institute_of_Technology | director | \"Dr. G. P. Prabhukumar\"'],\n",
       "   ['Acharya_Institute_of_Technology | state | Karnataka',\n",
       "    'Acharya_Institute_of_Technology | affiliation | Visvesvaraya_Technological_University',\n",
       "    'Visvesvaraya_Technological_University | city | Belgaum',\n",
       "    'Acharya_Institute_of_Technology | director | \"Dr. G. P. Prabhukumar\"'],\n",
       "   ['Acharya_Institute_of_Technology | state | Karnataka',\n",
       "    'Acharya_Institute_of_Technology | director | \"Dr. G. P. Prabhukumar\"',\n",
       "    'Acharya_Institute_of_Technology | affiliation | Visvesvaraya_Technological_University',\n",
       "    'Visvesvaraya_Technological_University | city | Belgaum']],\n",
       "  'template': ['AGENT-1 in PATIENT-3 is affiliated with BRIDGE-1 in PATIENT-1 . AGENT-1 director is PATIENT-2 .',\n",
       "   'AGENT-1 is located in PATIENT-3 . AGENT-1 is affiliated with BRIDGE-1 in PATIENT-1 and AGENT-1 director is PATIENT-2 .',\n",
       "   'AGENT-1 based in the state of PATIENT-3 has the director PATIENT-2 . AGENT-1 is affiliated with BRIDGE-1 which is located in the city of PATIENT-1 .'],\n",
       "  'text': [\"The Acharya Institute of Technology in Karnataka is affiliated with the Visvesvaraya Technological University in Belgaum. It's director is Dr. G. P. Prabhukumar.\",\n",
       "   'The Acharya Institute of Technology is located in Karnatka. It is affiliated with the Visvesvaraya Technological University in Belgaum and its director is Dr. G. P. Prabhukumar.',\n",
       "   'The Acharya Institute of Technology based in the state of Karnataka has the director Dr. G. P. Prabhukumar. The Institute is affiliated with Visvesvaraya Technological University which is located in the city of Belgaum.']},\n",
       " 'modified_triple_sets': {'mtriple_set': [['Visvesvaraya_Technological_University | city | Belgaum',\n",
       "    'Acharya_Institute_of_Technology | director | \"Dr. G. P. Prabhukumar\"',\n",
       "    'Acharya_Institute_of_Technology | state | Karnataka',\n",
       "    'Acharya_Institute_of_Technology | affiliation | Visvesvaraya_Technological_University']]},\n",
       " 'original_triple_sets': {'otriple_set': [['Visvesvaraya_Technological_University | city | Belgaum',\n",
       "    'Acharya_Institute_of_Technology | director | \"Dr. G. P. Prabhukumar\"@en',\n",
       "    'Acharya_Institute_of_Technology | state | Karnataka',\n",
       "    'Acharya_Institute_of_Technology | affiliations | Visvesvaraya_Technological_University']]},\n",
       " 'shape': '',\n",
       " 'shape_type': '',\n",
       " 'size': 4}"
      ]
     },
     "execution_count": 5,
     "metadata": {},
     "output_type": "execute_result"
    }
   ],
   "source": [
    "web[5467]"
   ]
  },
  {
   "cell_type": "code",
   "execution_count": 6,
   "id": "optimum-disposition",
   "metadata": {},
   "outputs": [],
   "source": [
    "Triple = namedtuple('Triple', ['h', 'r', 't'])\n",
    "\n",
    "def str_to_triple(triple: str):\n",
    "    return Triple(*triple.split(' | '))\n",
    "    "
   ]
  },
  {
   "cell_type": "code",
   "execution_count": 7,
   "id": "accepting-terror",
   "metadata": {},
   "outputs": [
    {
     "name": "stdout",
     "output_type": "stream",
     "text": [
      "Triple(h='Visvesvaraya_Technological_University', r='city', t='Belgaum')\n"
     ]
    }
   ],
   "source": [
    "print(str_to_triple(web[5467]['modified_triple_sets']['mtriple_set'][0][0]))"
   ]
  },
  {
   "cell_type": "code",
   "execution_count": 8,
   "id": "becoming-battery",
   "metadata": {},
   "outputs": [
    {
     "name": "stdout",
     "output_type": "stream",
     "text": [
      "Triple(h='Visvesvaraya_Technological_University', r='city', t='Belgaum')\n",
      "Triple(h='Acharya_Institute_of_Technology', r='director', t='\"Dr. G. P. Prabhukumar\"')\n",
      "Triple(h='Acharya_Institute_of_Technology', r='state', t='Karnataka')\n",
      "Triple(h='Acharya_Institute_of_Technology', r='affiliation', t='Visvesvaraya_Technological_University')\n"
     ]
    }
   ],
   "source": [
    "for relation in web[5467]['modified_triple_sets']['mtriple_set'][0]:\n",
    "    print(str_to_triple(relation))"
   ]
  },
  {
   "cell_type": "code",
   "execution_count": 9,
   "id": "affecting-bristol",
   "metadata": {},
   "outputs": [],
   "source": [
    "# i.e. there is only one element in 'mtriple_set' \n",
    "for i, record in enumerate(web):\n",
    "    if len(record['modified_triple_sets']['mtriple_set']) != 1:\n",
    "        print(i)"
   ]
  },
  {
   "cell_type": "code",
   "execution_count": 10,
   "id": "arabic-rwanda",
   "metadata": {},
   "outputs": [],
   "source": [
    "from torch_geometric.data import Data\n",
    "\n",
    "\n",
    "Entity = namedtuple('Entity', ['name', 'index'])\n",
    "Relationship = namedtuple('Entity', ['name', 'index'])\n",
    "\n",
    "\n",
    "class TripleCache:\n",
    "    \n",
    "    def __init__(self):\n",
    "        self.e_cache = {}\n",
    "        self.r_cache = {}\n",
    "        self.e_index = 0\n",
    "        self.r_index = 0\n",
    "        \n",
    "    def get_entity(self, entity):\n",
    "        if entity not in self.e_cache:\n",
    "            self.e_index += 1\n",
    "            self.e_cache[entity] = self.e_index\n",
    "        return Entity(entity, self.e_cache[entity])\n",
    "    \n",
    "    def get_relationship(self, relationship):\n",
    "        if relationship not in self.r_cache:\n",
    "            self.r_index += 1\n",
    "            self.r_cache[relationship] = self.r_index\n",
    "        return Relationship(relationship, self.r_cache[relationship])\n",
    "\n",
    "    \n",
    "class WebNLGSample:\n",
    "    \n",
    "    def __init__(self, record):\n",
    "        self.texts = record['lex']['text']\n",
    "        self.triples, self.entities, self.relations = self.process_record(\n",
    "            record['modified_triple_sets']['mtriple_set'][0]\n",
    "        )\n",
    "        \n",
    "    @staticmethod\n",
    "    def process_record(sample):\n",
    "        entities = set()\n",
    "        relations = set()\n",
    "        triples = []\n",
    "        for record in sample:\n",
    "            triple = str_to_triple(record)\n",
    "            entities.add(triple.h)\n",
    "            entities.add(triple.t)\n",
    "            relations.add(triple.r)\n",
    "            triples.append(triple)\n",
    "        return triples, entities, relations\n",
    "    \n",
    "    def make_graph(self, cache):\n",
    "        ents = {\n",
    "            cache.get_entity(e): i for i, e in enumerate(self.entities)\n",
    "        }\n",
    "        edge_index = torch.zeros(2, 2 * len(self.triples), dtype=torch.long) # 2 times for both directions\n",
    "        for i, triple in enumerate(self.triples):\n",
    "            i *= 2\n",
    "            h = cache.get_entity(triple.h)\n",
    "            t = cache.get_entity(triple.t)\n",
    "            edge_index[0][i] = ents[h]\n",
    "            edge_index[1][i+1] = ents[h]\n",
    "            edge_index[0][i+1] = ents[t]\n",
    "            edge_index[1][i] = ents[t]\n",
    "        x = torch.zeros(len(self.entities), 1)\n",
    "        for ent, index in ents.items():\n",
    "            x[index][0] = ent.index\n",
    "        return Data(x=x, edge_index=edge_index)    \n",
    "        "
   ]
  },
  {
   "cell_type": "code",
   "execution_count": 46,
   "id": "prescription-activity",
   "metadata": {},
   "outputs": [],
   "source": [
    "sample = WebNLGSample(web[457])"
   ]
  },
  {
   "cell_type": "code",
   "execution_count": 47,
   "id": "legendary-alliance",
   "metadata": {},
   "outputs": [
    {
     "data": {
      "text/plain": [
       "[Triple(h='Adisham_Hall', r='country', t='Sri_Lanka')]"
      ]
     },
     "execution_count": 47,
     "metadata": {},
     "output_type": "execute_result"
    }
   ],
   "source": [
    "sample.triples"
   ]
  },
  {
   "cell_type": "code",
   "execution_count": 48,
   "id": "listed-alfred",
   "metadata": {},
   "outputs": [],
   "source": [
    "all_records = [WebNLGSample(s) for s in web]"
   ]
  },
  {
   "cell_type": "code",
   "execution_count": 49,
   "id": "vietnamese-potter",
   "metadata": {},
   "outputs": [],
   "source": [
    "cache = TripleCache()\n",
    "g1 = all_records[2].make_graph(cache)"
   ]
  },
  {
   "cell_type": "code",
   "execution_count": 52,
   "id": "motivated-booth",
   "metadata": {},
   "outputs": [],
   "source": [
    "graphs = [r.make_graph(cache) for r in all_records]"
   ]
  },
  {
   "cell_type": "code",
   "execution_count": 16,
   "id": "parallel-power",
   "metadata": {},
   "outputs": [],
   "source": [
    "x = torch.as_tensor([[[1, 2, 3], [3, 2, 1], [10, 20, 30]], [[2, 3, 4], [4, 3, 2], [20, 30, 40]]])\n",
    "y = torch.as_tensor([[[4, 5, 6], [3, 2, 1], [6, 5, 4]], [[5, 6, 7], [7, 6, 5], [8, 9, 10]]])\n"
   ]
  },
  {
   "cell_type": "code",
   "execution_count": 17,
   "id": "aging-liver",
   "metadata": {},
   "outputs": [
    {
     "data": {
      "text/plain": [
       "tensor([[[  4,  10,  18],\n",
       "         [  9,   4,   1],\n",
       "         [ 60, 100, 120]],\n",
       "\n",
       "        [[ 10,  18,  28],\n",
       "         [ 28,  18,  10],\n",
       "         [160, 270, 400]]])"
      ]
     },
     "execution_count": 17,
     "metadata": {},
     "output_type": "execute_result"
    }
   ],
   "source": [
    "x * y "
   ]
  },
  {
   "cell_type": "code",
   "execution_count": 30,
   "id": "a5a62c62-dba6-43ef-8649-eddc78bf6e4b",
   "metadata": {},
   "outputs": [
    {
     "data": {
      "text/plain": [
       "tensor([[ 14,  28,  46],\n",
       "        [ 37,  22,  11],\n",
       "        [220, 370, 520]])"
      ]
     },
     "execution_count": 30,
     "metadata": {},
     "output_type": "execute_result"
    }
   ],
   "source": [
    "torch.sum(x * y, dim=0)"
   ]
  },
  {
   "cell_type": "code",
   "execution_count": 28,
   "id": "c9d784d6-fd23-4abd-8d73-16c234f1e441",
   "metadata": {},
   "outputs": [
    {
     "data": {
      "text/plain": [
       "tensor([[ 3,  1, 30],\n",
       "        [ 4,  2, 40]])"
      ]
     },
     "execution_count": 28,
     "metadata": {},
     "output_type": "execute_result"
    }
   ],
   "source": []
  },
  {
   "cell_type": "code",
   "execution_count": null,
   "id": "b8056652-5b93-4a02-8b49-3b70c568e149",
   "metadata": {},
   "outputs": [],
   "source": []
  }
 ],
 "metadata": {
  "kernelspec": {
   "display_name": "Python 3",
   "language": "python",
   "name": "python3"
  },
  "language_info": {
   "codemirror_mode": {
    "name": "ipython",
    "version": 3
   },
   "file_extension": ".py",
   "mimetype": "text/x-python",
   "name": "python",
   "nbconvert_exporter": "python",
   "pygments_lexer": "ipython3",
   "version": "3.8.5"
  }
 },
 "nbformat": 4,
 "nbformat_minor": 5
}
