{
 "cells": [
  {
   "cell_type": "code",
   "execution_count": 1,
   "id": "8f3f153c-f4a9-4906-9112-bd5197cb69b0",
   "metadata": {},
   "outputs": [],
   "source": [
    "import torch\n",
    "import hyperjson as json\n",
    "import os"
   ]
  },
  {
   "cell_type": "code",
   "execution_count": 13,
   "id": "320db588-1767-4bbc-8f16-aadbb8130b9d",
   "metadata": {},
   "outputs": [],
   "source": [
    "from csv import DictWriter\n",
    "import hyperjson as json\n",
    "import os\n",
    "import pickle\n",
    "import torch\n",
    "from torch.utils.data import DataLoader, Dataset\n",
    "from typing import Dict, List\n",
    "\n",
    "\n",
    "class GenwikiEntities:\n",
    "    scopes = ['fine', 'full']\n",
    "    modes = ['train', 'test']\n",
    "\n",
    "    def __init__(self):\n",
    "        self.file_dir = os.getcwd() + '/genwiki'\n",
    "        self.entities = {}\n",
    "        self.relationships = {}\n",
    "        self.r_idx = 0\n",
    "        self.e_idx = 0\n",
    "        self.triples = set()\n",
    "\n",
    "    def update_relationships(self, rels: List[str]):\n",
    "        for r in rels:\n",
    "            if r not in self.relationships:\n",
    "                self.relationships.update({r: self.r_idx})\n",
    "                self.r_idx += 1\n",
    "        \n",
    "    def update_entities(self, ents: List[str]):\n",
    "        for e in ents:\n",
    "            if e not in self.entities:\n",
    "                self.entities.update({e: self.e_idx})\n",
    "                self.e_idx += 1\n",
    "\n",
    "    def _load_data(self, mode, scope=None):\n",
    "        data = []\n",
    "        fp = f'{self.file_dir}/{mode}'\n",
    "        if scope:\n",
    "            fp += f'/{scope}' \n",
    "        for file in os.scandir(fp):\n",
    "            with open(file.path) as json_file:\n",
    "                data += json.load(json_file)\n",
    "        return data\n",
    "\n",
    "    def triple_tensor(self, triple: List[str]):\n",
    "        h_idx = self.entities[triple[0]]\n",
    "        r_idx = self.relationships[triple[1]]\n",
    "        t_idx = self.entities[triple[2]]\n",
    "        return torch.tensor([h_idx, r_idx, t_idx], dtype=torch.int32)\n",
    "\n",
    "    def write_entity_csv(self):\n",
    "        with open(f'{self.file_dir}/entity.csv', mode='w') as csv_file:\n",
    "            writer = DictWriter(csv_file, fieldnames=['entity', 'id'])\n",
    "            writer.writeheader()\n",
    "            writer.writerows([{'entity': e, 'id': i} for e, i in self.entities.items()])\n",
    "    \n",
    "    def write_relationship_csv(self):\n",
    "        with open(f'{self.file_dir}/relationship.csv', mode='w') as csv_file:\n",
    "            writer = DictWriter(csv_file, fieldnames=['relationship', 'id'])\n",
    "            writer.writeheader()\n",
    "            writer.writerows([{'relationship': e, 'id': i} for e, i in self.relationships.items()])\n",
    "\n",
    "    def write_triple_tensors(self):\n",
    "        with open(f'{self.file_dir}/triples.p', mode='wb') as pkl_file:\n",
    "            pickle.dump(self.triples, pkl_file)\n",
    "\n",
    "    def process_data(self):\n",
    "        for mode in self.modes:\n",
    "            if mode == 'train':\n",
    "                for scope in self.scopes:\n",
    "                    print(f'Processing the {mode} and {scope} data')\n",
    "                    for data in self._load_data(mode, scope):\n",
    "                        for triple in data['graph']:\n",
    "                            self.update_relationships([triple[1]])\n",
    "                            self.update_entities([triple[0], triple[2]])\n",
    "                            self.triples.add(self.triple_tensor(triple))\n",
    "            else:\n",
    "                for data in self._load_data(mode):\n",
    "                    for triple in data['graph']:\n",
    "                        self.update_relationships([triple[1]])\n",
    "                        self.update_entities([triple[0], triple[2]])\n",
    "                        self.triples.add(self.triple_tensor(triple))\n",
    "                \n",
    "                \n",
    "        self.write_entity_csv()\n",
    "        self.write_relationship_csv()\n",
    "        self.write_triple_tensors()"
   ]
  },
  {
   "cell_type": "code",
   "execution_count": 14,
   "id": "d51fc29e-4b36-4a7a-b547-a567f16a6927",
   "metadata": {},
   "outputs": [
    {
     "name": "stdout",
     "output_type": "stream",
     "text": [
      "Processing the train and fine data\n",
      "Processing the train and full data\n"
     ]
    }
   ],
   "source": [
    "genwiki = GenwikiEntities()\n",
    "genwiki.process_data()"
   ]
  },
  {
   "cell_type": "code",
   "execution_count": 13,
   "id": "3c27f4af-8c95-4f86-9dd7-a6add792121b",
   "metadata": {},
   "outputs": [
    {
     "data": {
      "text/plain": [
       "{'entities': ['Ukrainian',\n",
       "  'Russian',\n",
       "  'Sloviansk',\n",
       "  'USSR',\n",
       "  '13 January 1929',\n",
       "  'Viktor Trokhymovych Fomin',\n",
       "  '29 December 2007',\n",
       "  'the year',\n",
       "  '1970',\n",
       "  '1950',\n",
       "  'first'],\n",
       " 'graph': [['Viktor Fomin', 'birthPlace', 'USSR'],\n",
       "  ['Viktor Fomin', 'birthPlace', 'Sloviansk']],\n",
       " 'id_long': {'graph_set_index': 2,\n",
       "  'text_paragraph_index': 0,\n",
       "  'text_sentence_index_end': 3,\n",
       "  'text_sentence_index_start': 0,\n",
       "  'wikipage': 'Viktor_Fomin'},\n",
       " 'id_short': '[\"Viktor_Fomin\", 2, [0, 0, 3]]',\n",
       " 'text': '<ENT_5> ( <ENT_0> : , <ENT_1> : ; born <ENT_4> in <ENT_2> ; died <ENT_6> ) was a <ENT_0> football player . Master of Sports of the <ENT_3> ( <ENT_8> ) . The <ENT_10> <ENT_0> Player of <ENT_7> ( <ENT_9> ) .'}"
      ]
     },
     "execution_count": 13,
     "metadata": {},
     "output_type": "execute_result"
    }
   ],
   "source": [
    "data[4504]"
   ]
  },
  {
   "cell_type": "code",
   "execution_count": 14,
   "id": "ad8b8fae-1296-4dc0-a0d8-3e2516b9e43f",
   "metadata": {},
   "outputs": [
    {
     "name": "stdout",
     "output_type": "stream",
     "text": [
      "pushpinMapCaption\n",
      "PopulatedPlace/areaTotal\n",
      "division\n",
      "data\n",
      "w/l\n",
      "candidate\n",
      "recorded\n",
      "militaryCommand\n",
      "isPartOf\n",
      "knownFor\n",
      "Work/runtime\n",
      "state\n",
      "number\n",
      "foundingYear\n",
      "modes\n",
      "attend\n",
      "postalCodeType\n",
      "album\n",
      "club\n",
      "recordedIn\n",
      "creator\n",
      "last\n",
      "location\n",
      "rd3Team\n",
      "founded\n",
      "race\n",
      "manager\n",
      "directedby\n",
      "deathYear\n",
      "network\n",
      "opponent\n",
      "time\n",
      "rd1Score\n",
      "strength\n",
      "nationalteam\n",
      "series\n",
      "subsequentWork\n",
      "region\n",
      "address\n",
      "language\n",
      "established\n",
      "aux\n",
      "postalCode\n",
      "demographics1Info\n",
      "originalairdate\n",
      "numberOfStudents\n",
      "date\n",
      "spouse\n",
      "rd3Score\n",
      "home\n",
      "rd4Team\n",
      "instrument\n",
      "literaryGenre\n",
      "architect\n",
      "height\n",
      "mile\n",
      "city\n",
      "ship\n",
      "note\n",
      "builder\n",
      "score\n",
      "body\n",
      "coordDisplay\n",
      "locatedInArea\n",
      "team\n",
      "previousWork\n",
      "road\n",
      "almaMater\n",
      "siteStadium\n",
      "Person/height\n",
      "rd1Team\n",
      "guest\n",
      "owner\n",
      "blankName\n",
      "releaseDate\n",
      "timezone\n",
      "distributor\n",
      "extra\n",
      "clubs\n",
      "cinematography\n",
      "term\n",
      "debutTeam\n",
      "motto\n",
      "areaCode\n",
      "rebounds\n",
      "birthDate\n",
      "affiliation\n",
      "product\n",
      "class\n",
      "added\n",
      "conservationStatusSystem\n",
      "birthPlace\n",
      "source\n",
      "party\n",
      "goals\n",
      "unitPref\n",
      "overall\n",
      "recordLabel\n",
      "genre\n",
      "wickets\n",
      "label\n",
      "editing\n",
      "activeYearsEndYear\n",
      "artist\n",
      "rd2Score\n",
      "company\n",
      "routeEnd\n",
      "developer\n",
      "length\n",
      "pos\n",
      "genus\n",
      "routeStart\n",
      "leader\n",
      "battle\n",
      "subdivision\n",
      "name\n",
      "district\n",
      "predecessor\n",
      "formerTeam\n",
      "highschool\n",
      "year\n",
      "background\n",
      "abstract\n",
      "attendance\n",
      "alias\n",
      "image\n",
      "populationTotal\n",
      "related\n",
      "occupation\n",
      "author\n",
      "episodenumber\n",
      "type\n",
      "highSchool\n",
      "referee\n",
      "award\n",
      "gamename\n",
      "alt\n",
      "synonym\n",
      "subdivisionType\n",
      "event\n",
      "influencedBy\n",
      "ground\n",
      "routeJunction\n",
      "sport\n",
      "stadium\n",
      "yearOfConstruction\n",
      "militaryBranch\n",
      "points\n",
      "binomial\n",
      "released\n",
      "pushpinMap\n",
      "starring\n",
      "managerClub\n",
      "regionServed\n",
      "publisher\n",
      "other\n",
      "socks\n",
      "thisAlbum\n",
      "residence\n",
      "phylum\n",
      "profession\n",
      "shorts\n",
      "logo\n",
      "format\n",
      "votes\n",
      "column\n",
      "hometown\n",
      "architecturalStyle\n",
      "settlementType\n",
      "musicalBand\n",
      "family\n",
      "termStart\n",
      "operator\n",
      "rd2Seed\n",
      "unrankedSuperfamilia\n",
      "result\n",
      "binomialAuthority\n",
      "province\n",
      "computingPlatform\n",
      "campus\n",
      "caps\n",
      "rd2Team\n",
      "associatedBand\n",
      "league\n",
      "nationality\n",
      "school\n",
      "conference\n",
      "nat\n",
      "industry\n",
      "runtime\n",
      "restingPlace\n",
      "musicalArtist\n",
      "owningOrganisation\n",
      "populationDensityKm\n",
      "leftarm\n",
      "Person/weight\n",
      "area\n",
      "religion\n",
      "desc\n",
      "record\n",
      "office\n",
      "subdivisionRanks\n",
      "conservationStatus\n",
      "deathPlace\n",
      "writtenby\n",
      "writer\n",
      "formerBandMember\n",
      "workplaces\n",
      "headquarter\n",
      "coach\n",
      "place\n",
      "stateOfOrigin\n",
      "field\n",
      "bandMember\n",
      "stadiumarena\n",
      "locmapin\n",
      "elevation\n",
      "percentage\n",
      "musicComposer\n",
      "populationAsOf\n",
      "description\n",
      "change\n",
      "round\n",
      "successor\n",
      "status\n",
      "notes\n",
      "coordinatesDisplay\n",
      "country\n",
      "season\n",
      "assist\n",
      "try\n",
      "currentMember\n",
      "weight\n",
      "species\n",
      "rev\n",
      "college\n",
      "rank\n",
      "venue\n",
      "runs\n",
      "commander\n",
      "child\n",
      "rd1Seed\n",
      "orderInOffice\n",
      "deathDate\n",
      "termEnd\n",
      "governingBody\n",
      "rightarm\n",
      "director\n",
      "years\n",
      "birthYear\n",
      "activeYearsStartYear\n",
      "children\n",
      "combatant\n",
      "next\n",
      "genusAuthority\n",
      "openingYear\n",
      "englishtitle\n",
      "languageFamily\n",
      "coachTeam\n",
      "order\n",
      "ideology\n",
      "title\n",
      "studio\n",
      "penalties\n",
      "siteCityst\n",
      "president\n",
      "birthName\n",
      "education\n",
      "keyPerson\n",
      "manufacturer\n",
      "after\n",
      "previous\n",
      "kingdom\n",
      "producer\n",
      "route\n",
      "position\n",
      "width\n",
      "coordinatesRegion\n",
      "age\n",
      "parent\n",
      "militaryUnit\n",
      "associatedMusicalArtist\n",
      "first\n",
      "county\n",
      "before\n",
      "servingRailwayLine\n",
      "nativeNameLang\n"
     ]
    }
   ],
   "source": [
    "relations = set()\n",
    "for d in data:\n",
    "    for g in d['graph']:\n",
    "        relations.add(g[1])\n",
    "        \n",
    "for r in relations:\n",
    "    print(r)"
   ]
  },
  {
   "cell_type": "code",
   "execution_count": 17,
   "id": "e6b8face-3e9f-42ff-96b3-967fbba238b7",
   "metadata": {},
   "outputs": [],
   "source": [
    "import torch\n",
    "\n",
    "x = torch.arange(1.0, 5.0)\n",
    "y = torch.arange(2.0, 6.0)\n",
    "z = torch.arange(5.0, 9.0)\n"
   ]
  },
  {
   "cell_type": "code",
   "execution_count": 27,
   "id": "1fe3f41a-998a-446a-93a3-5fe8f580dc36",
   "metadata": {},
   "outputs": [
    {
     "data": {
      "text/plain": [
       "tensor([[10., 12., 14., 16.],\n",
       "        [15., 18., 21., 24.],\n",
       "        [20., 24., 28., 32.],\n",
       "        [25., 30., 35., 40.]])"
      ]
     },
     "execution_count": 27,
     "metadata": {},
     "output_type": "execute_result"
    }
   ],
   "source": [
    "torch.outer(y, z)"
   ]
  },
  {
   "cell_type": "code",
   "execution_count": 34,
   "id": "6807f510-b217-4e3c-9a0d-38f05bb01198",
   "metadata": {},
   "outputs": [
    {
     "data": {
      "text/plain": [
       "tensor([200., 240., 280., 320.])"
      ]
     },
     "execution_count": 34,
     "metadata": {},
     "output_type": "execute_result"
    }
   ],
   "source": [
    "x @ torch.outer(y, z)"
   ]
  },
  {
   "cell_type": "code",
   "execution_count": 33,
   "id": "aac12cf7-8ce2-47db-9cab-f3105e8bce19",
   "metadata": {},
   "outputs": [
    {
     "data": {
      "text/plain": [
       "tensor([ 60.,  90., 120., 150.])"
      ]
     },
     "execution_count": 33,
     "metadata": {},
     "output_type": "execute_result"
    }
   ],
   "source": [
    "torch.matmul(x, torch.outer(x, y))"
   ]
  },
  {
   "cell_type": "code",
   "execution_count": 42,
   "id": "8ea0b059-9702-47a2-bd2a-58c8c1abba57",
   "metadata": {},
   "outputs": [
    {
     "data": {
      "text/plain": [
       "tensor([200., 240., 280., 320.])"
      ]
     },
     "execution_count": 42,
     "metadata": {},
     "output_type": "execute_result"
    }
   ],
   "source": [
    "x @ torch.outer(y, z)"
   ]
  },
  {
   "cell_type": "code",
   "execution_count": 41,
   "id": "59ec57ed-53ad-4328-aa2a-47fc9256af14",
   "metadata": {},
   "outputs": [
    {
     "data": {
      "text/plain": [
       "tensor([ 96., 192., 288., 384.])"
      ]
     },
     "execution_count": 41,
     "metadata": {},
     "output_type": "execute_result"
    }
   ],
   "source": [
    "torch.outer(x, y) @ torch.t(z)"
   ]
  },
  {
   "cell_type": "code",
   "execution_count": 43,
   "id": "c39ff96c-01a7-4040-896e-05b49fc4a2f4",
   "metadata": {},
   "outputs": [
    {
     "data": {
      "text/plain": [
       "tensor([[ 10.,  18.,  28.,  40.],\n",
       "        [ 20.,  36.,  56.,  80.],\n",
       "        [ 30.,  54.,  84., 120.],\n",
       "        [ 40.,  72., 112., 160.]])"
      ]
     },
     "execution_count": 43,
     "metadata": {},
     "output_type": "execute_result"
    }
   ],
   "source": [
    "torch.outer(x, y) @ torch.diag(z)"
   ]
  },
  {
   "cell_type": "code",
   "execution_count": 44,
   "id": "24b1b247-245e-4b9f-83cc-d9605c69da8b",
   "metadata": {},
   "outputs": [
    {
     "data": {
      "text/plain": [
       "tensor([[ 10.,  12.,  14.,  16.],\n",
       "        [ 30.,  36.,  42.,  48.],\n",
       "        [ 60.,  72.,  84.,  96.],\n",
       "        [100., 120., 140., 160.]])"
      ]
     },
     "execution_count": 44,
     "metadata": {},
     "output_type": "execute_result"
    }
   ],
   "source": [
    "torch.diag(x) @ torch.outer(y, z)"
   ]
  },
  {
   "cell_type": "code",
   "execution_count": 53,
   "id": "84329663-d490-4fc7-8b2e-2e50851b4b8e",
   "metadata": {},
   "outputs": [
    {
     "data": {
      "text/plain": [
       "tensor([[0., 1., 2., 3., 4.],\n",
       "        [0., 2., 3., 4., 5.]])"
      ]
     },
     "execution_count": 53,
     "metadata": {},
     "output_type": "execute_result"
    }
   ],
   "source": [
    "a = torch.tensor([[0], [0]])\n",
    "torch.hstack((a, torch.vstack((x, y))))"
   ]
  },
  {
   "cell_type": "code",
   "execution_count": 87,
   "id": "7aebc8e8-dc89-453e-8c3f-f6f5c25899fe",
   "metadata": {},
   "outputs": [],
   "source": [
    "a = torch.hstack((torch.tensor([10, 9, 8, 7, 6]).reshape((5, 1)), torch.tile(torch.as_tensor([1, 2, 3]), (5, 1))))"
   ]
  },
  {
   "cell_type": "code",
   "execution_count": 90,
   "id": "59219618-9ecf-404f-802c-e83d438c0542",
   "metadata": {},
   "outputs": [
    {
     "name": "stdout",
     "output_type": "stream",
     "text": [
      "tensor([10,  1,  2,  3])\n",
      "tensor([9, 1, 2, 3])\n",
      "tensor([8, 1, 2, 3])\n",
      "tensor([7, 1, 2, 3])\n",
      "tensor([6, 1, 2, 3])\n"
     ]
    }
   ],
   "source": [
    "for i, j in enumerate(a):\n",
    "    print(j)"
   ]
  },
  {
   "cell_type": "code",
   "execution_count": 92,
   "id": "7061f80f-dc5b-402f-addb-f51126eb326a",
   "metadata": {},
   "outputs": [],
   "source": [
    "a[3] = torch.tensor([0, 0, 0, 0])"
   ]
  },
  {
   "cell_type": "code",
   "execution_count": 97,
   "id": "9a54112d-e7b7-4e9f-9d28-451ea0022d9b",
   "metadata": {},
   "outputs": [
    {
     "data": {
      "text/plain": [
       "tensor([[0, 0, 0, 0]])"
      ]
     },
     "execution_count": 97,
     "metadata": {},
     "output_type": "execute_result"
    }
   ],
   "source": [
    "torch.tile(torch.tensor([0, 0, 0, 0]), (1, 1))"
   ]
  },
  {
   "cell_type": "code",
   "execution_count": 96,
   "id": "0b253a1b-78d9-46b8-a202-2d8b6d779ef5",
   "metadata": {},
   "outputs": [
    {
     "data": {
      "text/plain": [
       "tensor([[10,  9,  8,  0,  6],\n",
       "        [ 1,  1,  1,  0,  1],\n",
       "        [ 2,  2,  2,  0,  2],\n",
       "        [ 3,  3,  3,  0,  3]])"
      ]
     },
     "execution_count": 96,
     "metadata": {},
     "output_type": "execute_result"
    }
   ],
   "source": [
    "torch.movedim(a, 0, 1)"
   ]
  },
  {
   "cell_type": "code",
   "execution_count": 102,
   "id": "f09c9076-9cf2-486f-8fad-0fdfd7ec99c4",
   "metadata": {},
   "outputs": [
    {
     "ename": "TypeError",
     "evalue": "cat() received an invalid combination of arguments - got (Tensor, Tensor), but expected one of:\n * (tuple of Tensors tensors, name dim, *, Tensor out)\n * (tuple of Tensors tensors, int dim, *, Tensor out)\n",
     "output_type": "error",
     "traceback": [
      "\u001b[0;31m---------------------------------------------------------------------------\u001b[0m",
      "\u001b[0;31mTypeError\u001b[0m                                 Traceback (most recent call last)",
      "\u001b[0;32m<ipython-input-102-01bef772e642>\u001b[0m in \u001b[0;36m<module>\u001b[0;34m\u001b[0m\n\u001b[0;32m----> 1\u001b[0;31m \u001b[0mtorch\u001b[0m\u001b[0;34m.\u001b[0m\u001b[0mcat\u001b[0m\u001b[0;34m(\u001b[0m\u001b[0mtorch\u001b[0m\u001b[0;34m.\u001b[0m\u001b[0mtensor\u001b[0m\u001b[0;34m(\u001b[0m\u001b[0;34m[\u001b[0m\u001b[0;34m-\u001b[0m\u001b[0;36m1\u001b[0m\u001b[0;34m]\u001b[0m\u001b[0;34m)\u001b[0m\u001b[0;34m,\u001b[0m \u001b[0mtorch\u001b[0m\u001b[0;34m.\u001b[0m\u001b[0mtensor\u001b[0m\u001b[0;34m(\u001b[0m\u001b[0;34m[\u001b[0m\u001b[0;36m0\u001b[0m\u001b[0;34m,\u001b[0m \u001b[0;36m1\u001b[0m\u001b[0;34m,\u001b[0m \u001b[0;36m2\u001b[0m\u001b[0;34m,\u001b[0m \u001b[0;36m3\u001b[0m\u001b[0;34m,\u001b[0m \u001b[0;36m4\u001b[0m\u001b[0;34m,\u001b[0m \u001b[0;36m5\u001b[0m\u001b[0;34m]\u001b[0m\u001b[0;34m)\u001b[0m\u001b[0;34m)\u001b[0m\u001b[0;34m\u001b[0m\u001b[0;34m\u001b[0m\u001b[0m\n\u001b[0m",
      "\u001b[0;31mTypeError\u001b[0m: cat() received an invalid combination of arguments - got (Tensor, Tensor), but expected one of:\n * (tuple of Tensors tensors, name dim, *, Tensor out)\n * (tuple of Tensors tensors, int dim, *, Tensor out)\n"
     ]
    }
   ],
   "source": [
    "torch.cat(torch.tensor([-1]), torch.tensor([0, 1, 2, 3, 4, 5]))"
   ]
  },
  {
   "cell_type": "code",
   "execution_count": 104,
   "id": "240fd142-3fb8-4e9a-9547-07f93d1d3913",
   "metadata": {},
   "outputs": [
    {
     "data": {
      "text/plain": [
       "tensor([-1,  0,  2,  3,  4])"
      ]
     },
     "execution_count": 104,
     "metadata": {},
     "output_type": "execute_result"
    }
   ],
   "source": [
    "torch.hstack((torch.tensor([-1]), torch.tensor([0, 2, 3, 4])))"
   ]
  },
  {
   "cell_type": "code",
   "execution_count": 107,
   "id": "206b0952-c23a-4649-b5e0-534d84f1487d",
   "metadata": {},
   "outputs": [
    {
     "data": {
      "text/plain": [
       "tensor([[1, 2, 3, 4],\n",
       "        [1, 2, 3, 4],\n",
       "        [1, 2, 3, 4],\n",
       "        [1, 2, 3, 4],\n",
       "        [1, 2, 3, 4]])"
      ]
     },
     "execution_count": 107,
     "metadata": {},
     "output_type": "execute_result"
    }
   ],
   "source": [
    "torch.tensor([1, 2, 3, 4]).broadcast_to((5, 4))"
   ]
  },
  {
   "cell_type": "code",
   "execution_count": 117,
   "id": "4c424baf-950b-4e19-9e5b-064323679175",
   "metadata": {},
   "outputs": [],
   "source": [
    "b = torch.arange(0, 25).reshape((5, -1))"
   ]
  },
  {
   "cell_type": "code",
   "execution_count": 118,
   "id": "5b67521a-d7e9-4a45-a740-baecdd029f48",
   "metadata": {},
   "outputs": [
    {
     "data": {
      "text/plain": [
       "tensor([3, 4, 1, 0, 2])"
      ]
     },
     "execution_count": 118,
     "metadata": {},
     "output_type": "execute_result"
    }
   ],
   "source": [
    "torch.randperm(5)"
   ]
  },
  {
   "cell_type": "code",
   "execution_count": 123,
   "id": "aabcda1a-6cd0-4034-93a4-9dee31f2f5be",
   "metadata": {},
   "outputs": [
    {
     "data": {
      "text/plain": [
       "tensor([[ 1,  4,  3,  0,  2],\n",
       "        [ 6,  9,  8,  5,  7],\n",
       "        [11, 14, 13, 10, 12],\n",
       "        [16, 19, 18, 15, 17],\n",
       "        [21, 24, 23, 20, 22]])"
      ]
     },
     "execution_count": 123,
     "metadata": {},
     "output_type": "execute_result"
    }
   ],
   "source": [
    "torch.index_select(b, 1, torch.randperm(5))"
   ]
  },
  {
   "cell_type": "code",
   "execution_count": 124,
   "id": "b87df921-4e20-4405-85b1-bb726266a535",
   "metadata": {},
   "outputs": [
    {
     "data": {
      "text/plain": [
       "tensor([3, 4])"
      ]
     },
     "execution_count": 124,
     "metadata": {},
     "output_type": "execute_result"
    }
   ],
   "source": [
    "torch.index_select(torch.tensor([1, 2, 3, 4, 5]), 0, torch.tensor([2, 3]))"
   ]
  },
  {
   "cell_type": "code",
   "execution_count": 133,
   "id": "ce4ff57d-a0b7-4b66-9f12-400810c8a0c9",
   "metadata": {},
   "outputs": [
    {
     "data": {
      "text/plain": [
       "(tensor([[ 0],\n",
       "         [ 5],\n",
       "         [10],\n",
       "         [15],\n",
       "         [20]]),\n",
       " tensor([[ 1],\n",
       "         [ 6],\n",
       "         [11],\n",
       "         [16],\n",
       "         [21]]),\n",
       " tensor([[ 2],\n",
       "         [ 7],\n",
       "         [12],\n",
       "         [17],\n",
       "         [22]]),\n",
       " tensor([[ 3],\n",
       "         [ 8],\n",
       "         [13],\n",
       "         [18],\n",
       "         [23]]),\n",
       " tensor([[ 4],\n",
       "         [ 9],\n",
       "         [14],\n",
       "         [19],\n",
       "         [24]]))"
      ]
     },
     "execution_count": 133,
     "metadata": {},
     "output_type": "execute_result"
    }
   ],
   "source": [
    "torch.split(b, 1, dim=1)"
   ]
  },
  {
   "cell_type": "code",
   "execution_count": 127,
   "id": "a2f886e4-8c7a-48f9-ae34-b41e1d774988",
   "metadata": {},
   "outputs": [
    {
     "data": {
      "text/plain": [
       "tensor([[ 0,  1,  2,  3,  4],\n",
       "        [ 5,  6,  7,  8,  9],\n",
       "        [10, 11, 12, 13, 14],\n",
       "        [15, 16, 17, 18, 19],\n",
       "        [20, 21, 22, 23, 24]])"
      ]
     },
     "execution_count": 127,
     "metadata": {},
     "output_type": "execute_result"
    }
   ],
   "source": [
    "b"
   ]
  },
  {
   "cell_type": "code",
   "execution_count": null,
   "id": "2703b996-b0cf-4c00-93af-203c83ebacc3",
   "metadata": {},
   "outputs": [],
   "source": []
  }
 ],
 "metadata": {
  "kernelspec": {
   "display_name": "Python 3",
   "language": "python",
   "name": "python3"
  },
  "language_info": {
   "codemirror_mode": {
    "name": "ipython",
    "version": 3
   },
   "file_extension": ".py",
   "mimetype": "text/x-python",
   "name": "python",
   "nbconvert_exporter": "python",
   "pygments_lexer": "ipython3",
   "version": "3.8.5"
  }
 },
 "nbformat": 4,
 "nbformat_minor": 5
}
